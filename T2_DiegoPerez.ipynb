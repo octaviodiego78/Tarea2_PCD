{
 "cells": [
  {
   "cell_type": "markdown",
   "id": "c26af05e",
   "metadata": {},
   "source": [
    "## **MLOps** #"
   ]
  },
  {
   "cell_type": "markdown",
   "id": "ba4f079c",
   "metadata": {},
   "source": [
    "Las MLOps son un conjunto de procesos que eficientan y facilitan los deployments de ML y otros flujos.\n",
    "En un modelo convencional de ML, se necesitan descargar los datos, procesarlos, y aplicar ingenieria de caracteristicas, despues entrenar y validar un modelo, para por ultimo implementarlo mediante una API. MLOPs se encargar de manejar esto de manera sistematica, para estandarizar el deployment de multiples modelos"
   ]
  },
  {
   "cell_type": "markdown",
   "id": "9179cf5c",
   "metadata": {},
   "source": [
    "Los 4 principios de MLOPs son:\n",
    "- Control de versiones:\n",
    "    -   Seguimiento de cambios el los procesos de ML\n",
    "\n",
    "- Automation\n",
    "    -  Para ganatizar la estandarizacion, reproductibilidad y escalabilidad\n",
    "\n",
    "- Actividades Continuas\n",
    "    - Se refiere a que se realizan 4 pasos automaticamente cada que se hace algun cambio en el codigo: pruebas, ejecuccion, entrenamiento, y monitoreo\n",
    "        \n",
    "- Gobernanza\n",
    "    - Asegurarse de que los datos esten protegidos, proveer una documentacion clara, y asegurarse de una buena documentacion entre las partes interesadas de la empresa\n",
    "\n",
    "\n"
   ]
  },
  {
   "cell_type": "markdown",
   "id": "2fe9cd54",
   "metadata": {},
   "source": [
    "Los beneficios de las MLOps son los siguientes:\n",
    "\n",
    "- Reducciones de tiempo: La implementacion de modelos se vuelve mas rapida y menos costosa, lo que le permite a miembros enfocarse en otras cosas\n",
    "\n",
    "- Productividad: Al seguir el mismo formato, gran parte del codigo se puede reusar\n",
    "\n",
    "- Eficiencia en la implementacion: se mejora la resolucion de problemas al tener historial de versiones"
   ]
  },
  {
   "cell_type": "markdown",
   "id": "54fdc66d",
   "metadata": {},
   "source": [
    "Como en todo, hay diferentes niveles de automatizacion de las MLOps en las empresas:\n",
    "\n",
    "- Nivel 0: Los modelos de ML usados consisten en procesos manuales\n",
    "- Nivel 1: Pasos para experimentar facilmente, y rentrenamiento constante de los modelos existentes\n",
    "- Nivel 2: Todo lo incluido en el nivel 2, mas un orquestador, un registro de modelos"
   ]
  },
  {
   "cell_type": "markdown",
   "id": "4888aa22",
   "metadata": {},
   "source": [
    "La diferencia entre DevOPs y MLOPs se basa fundamentalmente en que las MLOPs aparte de tambien ser practicas garantizar que los cambios en el código se prueben, integren e implementen automáticamente en la producción de manera eficiente y confiable, son especificas para procesos de ML"
   ]
  },
  {
   "cell_type": "markdown",
   "id": "0db17527",
   "metadata": {},
   "source": []
  }
 ],
 "metadata": {
  "kernelspec": {
   "display_name": "base",
   "language": "python",
   "name": "python3"
  },
  "language_info": {
   "codemirror_mode": {
    "name": "ipython",
    "version": 3
   },
   "file_extension": ".py",
   "mimetype": "text/x-python",
   "name": "python",
   "nbconvert_exporter": "python",
   "pygments_lexer": "ipython3",
   "version": "3.11.4"
  }
 },
 "nbformat": 4,
 "nbformat_minor": 5
}
